{
  "cells": [
    {
      "cell_type": "markdown",
      "metadata": {
        "id": "view-in-github",
        "colab_type": "text"
      },
      "source": [
        "<a href=\"https://colab.research.google.com/github/slvyarc/Text-Prediction-Model/blob/main/Predicting_the_next_word.ipynb\" target=\"_parent\"><img src=\"https://colab.research.google.com/assets/colab-badge.svg\" alt=\"Open In Colab\"/></a>"
      ]
    },
    {
      "cell_type": "markdown",
      "metadata": {
        "id": "bFWbEb6uGbN-"
      },
      "source": [
        "# **Predicting the next word**\n",
        "Dalam notebook ini, kita akan membuat model untuk memprediksi kata berikutnya dalam urutan teks menggunakan korpus soneta Shakespeare. Kita juga akan membuat beberapa fungsi bantu untuk memproses data.\n",
        "\n",
        "Dataset yang akan kita gunakan adalah Soneta Shakespeare, yang berisi lebih dari 2000 baris teks dari soneta Shakespeare. [Link Dataset](https://www.opensourceshakespeare.org/views/sonnets/sonnet_view.php?range=viewrange&sonnetrange1=1&sonnetrange2=154)\n",
        "\n",
        "Mari kita mulai!\n"
      ]
    },
    {
      "cell_type": "markdown",
      "source": [
        "## Mengimpor Library yang Diperlukan\n",
        "Mari kita mulai dengan mengimpor library yang kita butuhkan untuk membangun model prediksi kata berikutnya."
      ],
      "metadata": {
        "id": "ibL1cu_UjfNA"
      }
    },
    {
      "cell_type": "code",
      "execution_count": 1,
      "metadata": {
        "deletable": false,
        "editable": false,
        "id": "BOwsuGQQY9OL",
        "tags": [
          "graded"
        ]
      },
      "outputs": [],
      "source": [
        "import numpy as np\n",
        "import matplotlib.pyplot as plt\n",
        "from tensorflow.keras.models import Sequential\n",
        "from tensorflow.keras.utils import to_categorical\n",
        "from tensorflow.keras.preprocessing.text import Tokenizer\n",
        "from tensorflow.keras.preprocessing.sequence import pad_sequences\n",
        "from tensorflow.keras.layers import Embedding, LSTM, Dense, Bidirectional, GRU"
      ]
    },
    {
      "cell_type": "markdown",
      "source": [
        "### Mengunduh File dan Membaca Data"
      ],
      "metadata": {
        "id": "R9oBspwQoeLi"
      }
    },
    {
      "cell_type": "markdown",
      "metadata": {
        "id": "BTxqlHqKHzhr"
      },
      "source": [
        "Di bagian ini, kita akan menggunakan modul gdown untuk mengunduh file teks soneta Shakespeare dari Google Drive. Setelah diunduh, kita akan membaca data dari file tersebut dan menyimpannya dalam variabel untuk digunakan selanjutnya."
      ]
    },
    {
      "cell_type": "code",
      "execution_count": 2,
      "metadata": {
        "colab": {
          "base_uri": "https://localhost:8080/"
        },
        "id": "WMQUT756eCRH",
        "outputId": "e3846f31-271a-4383-f390-0713f9cb3ae1"
      },
      "outputs": [
        {
          "output_type": "stream",
          "name": "stdout",
          "text": [
            "Requirement already satisfied: gdown==5.1.0 in /usr/local/lib/python3.10/dist-packages (5.1.0)\n",
            "Requirement already satisfied: beautifulsoup4 in /usr/local/lib/python3.10/dist-packages (from gdown==5.1.0) (4.12.3)\n",
            "Requirement already satisfied: filelock in /usr/local/lib/python3.10/dist-packages (from gdown==5.1.0) (3.14.0)\n",
            "Requirement already satisfied: requests[socks] in /usr/local/lib/python3.10/dist-packages (from gdown==5.1.0) (2.31.0)\n",
            "Requirement already satisfied: tqdm in /usr/local/lib/python3.10/dist-packages (from gdown==5.1.0) (4.66.4)\n",
            "Requirement already satisfied: soupsieve>1.2 in /usr/local/lib/python3.10/dist-packages (from beautifulsoup4->gdown==5.1.0) (2.5)\n",
            "Requirement already satisfied: charset-normalizer<4,>=2 in /usr/local/lib/python3.10/dist-packages (from requests[socks]->gdown==5.1.0) (3.3.2)\n",
            "Requirement already satisfied: idna<4,>=2.5 in /usr/local/lib/python3.10/dist-packages (from requests[socks]->gdown==5.1.0) (3.7)\n",
            "Requirement already satisfied: urllib3<3,>=1.21.1 in /usr/local/lib/python3.10/dist-packages (from requests[socks]->gdown==5.1.0) (2.0.7)\n",
            "Requirement already satisfied: certifi>=2017.4.17 in /usr/local/lib/python3.10/dist-packages (from requests[socks]->gdown==5.1.0) (2024.2.2)\n",
            "Requirement already satisfied: PySocks!=1.5.7,>=1.5.6 in /usr/local/lib/python3.10/dist-packages (from requests[socks]->gdown==5.1.0) (1.7.1)\n"
          ]
        }
      ],
      "source": [
        "!pip install gdown==5.1.0 #modul gdown digunakan untuk mengunduh dataset dari Google Drive"
      ]
    },
    {
      "cell_type": "code",
      "execution_count": 3,
      "metadata": {
        "deletable": false,
        "editable": false,
        "id": "WZ4qOUzujMP6",
        "tags": [
          "graded"
        ],
        "colab": {
          "base_uri": "https://localhost:8080/"
        },
        "outputId": "765eb443-c5c5-4058-9213-a6917bf5ca8e"
      },
      "outputs": [
        {
          "output_type": "stream",
          "name": "stdout",
          "text": [
            "/usr/local/lib/python3.10/dist-packages/gdown/__main__.py:132: FutureWarning: Option `--id` was deprecated in version 4.3.1 and will be removed in 5.0. You don't need to pass it anymore to use a file ID.\n",
            "  warnings.warn(\n",
            "Downloading...\n",
            "From: https://drive.google.com/uc?id=108jAePKK4R3BVYBbYJZ32JWUwxeMg20K\n",
            "To: /content/sonnets.txt\n",
            "100% 93.6k/93.6k [00:00<00:00, 82.3MB/s]\n"
          ]
        }
      ],
      "source": [
        "# mengunduh file Soneta Shakespeare dengan nama sonnets.txt dari Google Drive\n",
        "!gdown --id 108jAePKK4R3BVYBbYJZ32JWUwxeMg20K"
      ]
    },
    {
      "cell_type": "code",
      "execution_count": 4,
      "metadata": {
        "deletable": false,
        "editable": false,
        "id": "Pfd-nYKij5yY",
        "tags": [
          "graded"
        ],
        "colab": {
          "base_uri": "https://localhost:8080/"
        },
        "outputId": "db05dde3-9f30-4edf-cb05-94375b3e4c57"
      },
      "outputs": [
        {
          "output_type": "stream",
          "name": "stdout",
          "text": [
            "Terdapat 2159 baris soneta\n",
            "\n",
            "Kelima baris pertama terlihat seperti ini:\n",
            "\n",
            "from fairest creatures we desire increase,\n",
            "that thereby beauty's rose might never die,\n",
            "but as the riper should by time decease,\n",
            "his tender heir might bear his memory:\n",
            "but thou, contracted to thine own bright eyes,\n"
          ]
        }
      ],
      "source": [
        "# Mendefinisikan path untuk file dengan soneta\n",
        "SONNETS_FILE = './sonnets.txt'\n",
        "\n",
        "# Membaca data dari file teks\n",
        "with open('./sonnets.txt') as f:\n",
        "    data = f.read()\n",
        "\n",
        "# Mengonversi teks menjadi huruf kecil dan menyimpannya sebagai daftar\n",
        "corpus = data.lower().split(\"\\n\")\n",
        "\n",
        "# Mencetak jumlah baris soneta yang telah dibaca\n",
        "print(f\"Terdapat {len(corpus)} baris soneta\\n\")\n",
        "\n",
        "# Menampilkan lima baris pertama soneta\n",
        "print(f\"Kelima baris pertama terlihat seperti ini:\\n\")\n",
        "for i in range(5):\n",
        "  print(corpus[i])\n"
      ]
    },
    {
      "cell_type": "markdown",
      "metadata": {
        "id": "imB15zrSNhA1"
      },
      "source": [
        "## Tokenisasi Teks\n",
        "\n",
        "Tokenisasi adalah proses mengubah teks menjadi urutan kata atau token. Kita akan menggunakan tokenizer untuk memproses korpus (sekumpulan teks) dan menyimpan total jumlah kata yang unik.\n"
      ]
    },
    {
      "cell_type": "code",
      "execution_count": 5,
      "metadata": {
        "deletable": false,
        "editable": false,
        "id": "AAhM_qAZk0o5",
        "tags": [
          "graded"
        ]
      },
      "outputs": [],
      "source": [
        "# Membuat objek Tokenizer\n",
        "tokenizer = Tokenizer()\n",
        "# Memasangkan Tokenizer pada korpus teks\n",
        "tokenizer.fit_on_texts(corpus)\n",
        "# Menghitung total jumlah kata dalam korpus teks, ditambah 1 untuk memperhitungkan padding\n",
        "total_words = len(tokenizer.word_index) + 1\n"
      ]
    },
    {
      "cell_type": "markdown",
      "metadata": {
        "id": "77-0sA46OETa"
      },
      "source": [
        "Saat mengonversi teks menjadi urutan kata, kita dapat menggunakan metode texts_to_sequences. Namun, dalam fungsi yang akan dievaluasi selanjutnya, kita perlu memproses korpus ini satu baris pada satu waktu. Oleh karena itu, penting untuk diingat bahwa cara kita memberikan data akan memengaruhi hasilnya."
      ]
    },
    {
      "cell_type": "code",
      "execution_count": 6,
      "metadata": {
        "deletable": false,
        "editable": false,
        "id": "tqhPxdeXlfjh",
        "tags": [
          "graded"
        ],
        "colab": {
          "base_uri": "https://localhost:8080/",
          "height": 35
        },
        "outputId": "dd5286e0-7c2a-4bef-a5b6-6a127c74415d"
      },
      "outputs": [
        {
          "output_type": "execute_result",
          "data": {
            "text/plain": [
              "'from fairest creatures we desire increase,'"
            ],
            "application/vnd.google.colaboratory.intrinsic+json": {
              "type": "string"
            }
          },
          "metadata": {},
          "execution_count": 6
        }
      ],
      "source": [
        "# Mengonversi teks menjadi urutan kata-kata\n",
        "corpus[0]"
      ]
    },
    {
      "cell_type": "markdown",
      "metadata": {
        "id": "XFMP4z11O3os"
      },
      "source": [
        "Jika kita langsung memasukkan teks ini ke dalam metode texts_to_sequences, kita akan mendapatkan hasil yang tidak terduga:"
      ]
    },
    {
      "cell_type": "code",
      "execution_count": 7,
      "metadata": {
        "deletable": false,
        "editable": false,
        "id": "EMSEhmbzNZCE",
        "tags": [
          "graded"
        ],
        "colab": {
          "base_uri": "https://localhost:8080/"
        },
        "outputId": "41486fcc-2c99-4f5b-8930-0f86753b8ff5"
      },
      "outputs": [
        {
          "output_type": "execute_result",
          "data": {
            "text/plain": [
              "[[],\n",
              " [],\n",
              " [58],\n",
              " [],\n",
              " [],\n",
              " [],\n",
              " [17],\n",
              " [6],\n",
              " [],\n",
              " [],\n",
              " [],\n",
              " [],\n",
              " [],\n",
              " [],\n",
              " [],\n",
              " [],\n",
              " [17],\n",
              " [],\n",
              " [],\n",
              " [],\n",
              " [],\n",
              " [],\n",
              " [],\n",
              " [],\n",
              " [],\n",
              " [],\n",
              " [],\n",
              " [],\n",
              " [],\n",
              " [6],\n",
              " [],\n",
              " [],\n",
              " [],\n",
              " [6],\n",
              " [],\n",
              " [],\n",
              " [],\n",
              " [],\n",
              " [17],\n",
              " [],\n",
              " [],\n",
              " []]"
            ]
          },
          "metadata": {},
          "execution_count": 7
        }
      ],
      "source": [
        "tokenizer.texts_to_sequences(corpus[0])"
      ]
    },
    {
      "cell_type": "markdown",
      "metadata": {
        "id": "pPZmZtpEPEeI"
      },
      "source": [
        "Hal ini terjadi karena texts_to_sequences mengharapkan sebuah daftar (list) dan kita memberikan sebuah string. Namun, string juga merupakan iterable di Python sehingga kita akan mendapatkan indeks kata dari setiap karakter dalam string tersebut.\n",
        "\n",
        "Sebaliknya, kita perlu memasukkan contoh ini ke dalam daftar sebelum meneruskannya ke metode:"
      ]
    },
    {
      "cell_type": "code",
      "execution_count": 8,
      "metadata": {
        "deletable": false,
        "editable": false,
        "id": "Qmgo-vXhk4nd",
        "tags": [
          "graded"
        ],
        "colab": {
          "base_uri": "https://localhost:8080/"
        },
        "outputId": "ad144d08-3ab3-4a28-ccc6-d5845f69f0b8"
      },
      "outputs": [
        {
          "output_type": "execute_result",
          "data": {
            "text/plain": [
              "[[34, 417, 877, 166, 213, 517]]"
            ]
          },
          "metadata": {},
          "execution_count": 8
        }
      ],
      "source": [
        "tokenizer.texts_to_sequences([corpus[0]])"
      ]
    },
    {
      "cell_type": "markdown",
      "metadata": {
        "id": "0DU7wK-eQ5dc"
      },
      "source": [
        "Perhatikan bahwa hasil yang kita terima adalah urutan kata yang berada di dalam sebuah daftar. Jadi, untuk mendapatkan urutan kata yang kita inginkan saja, kita perlu mengambil item pertama dari daftar tersebut. Caranya adalah seperti ini:"
      ]
    },
    {
      "cell_type": "code",
      "execution_count": 9,
      "metadata": {
        "deletable": false,
        "editable": false,
        "id": "kpTy8WmIQ57P",
        "tags": [
          "graded"
        ],
        "colab": {
          "base_uri": "https://localhost:8080/"
        },
        "outputId": "08a47fd9-4a57-4979-9b34-331d206e8c8d"
      },
      "outputs": [
        {
          "output_type": "execute_result",
          "data": {
            "text/plain": [
              "[34, 417, 877, 166, 213, 517]"
            ]
          },
          "metadata": {},
          "execution_count": 9
        }
      ],
      "source": [
        "tokenizer.texts_to_sequences([corpus[0]])[0]"
      ]
    },
    {
      "cell_type": "markdown",
      "metadata": {
        "id": "-oqy9KjXRJ9A"
      },
      "source": [
        "## Membuat n-gram\n",
        "\n",
        "Fungsi ini menerima korpus teks dan objek tokenizer yang sudah dipasangkan dengan kata-kata dalam korpus. Ini menghasilkan daftar urutan n-gram untuk setiap baris teks dalam korpus."
      ]
    },
    {
      "cell_type": "code",
      "execution_count": 10,
      "metadata": {
        "deletable": false,
        "id": "iy4baJMDl6kj",
        "tags": [
          "graded"
        ]
      },
      "outputs": [],
      "source": [
        "def n_gram_seqs(corpus, tokenizer):\n",
        "    \"\"\"\n",
        "    Menghasilkan daftar urutan n-gram\n",
        "\n",
        "    Args:\n",
        "        corpus (list of string): baris teks untuk menghasilkan n-gram\n",
        "        tokenizer (objek): sebuah instance dari kelas Tokenizer yang berisi kamus kata-indeks\n",
        "\n",
        "    Returns:\n",
        "        input_sequences (list of int): urutan n-gram untuk setiap baris dalam korpus\n",
        "    \"\"\"\n",
        "    input_sequences = []\n",
        "\n",
        "    # Iterasi melalui setiap baris dalam korpus\n",
        "    for line in corpus:\n",
        "        # Menerjemahkan baris menjadi daftar token\n",
        "        token_list = tokenizer.texts_to_sequences([line])[0]\n",
        "\n",
        "        # Membuat n-gram sequence untuk setiap panjang n\n",
        "        for i in range(1, len(token_list)):\n",
        "            n_gram_sequence = token_list[:i+1]\n",
        "\n",
        "            # Menambahkan urutan n-gram ke daftar input_sequences\n",
        "            input_sequences.append(n_gram_sequence)\n",
        "\n",
        "    return input_sequences"
      ]
    },
    {
      "cell_type": "markdown",
      "source": [
        "Selanjutnya, kita ingin menguji fungsi `n_gram_seqs` dengan satu contoh. Hasilnya akan menjadi daftar urutan n-gram untuk contoh pertama dalam korpus."
      ],
      "metadata": {
        "id": "aOFotFON7SDR"
      }
    },
    {
      "cell_type": "code",
      "execution_count": 11,
      "metadata": {
        "deletable": false,
        "editable": false,
        "id": "DlKqW2pfM7G3",
        "tags": [
          "graded"
        ],
        "colab": {
          "base_uri": "https://localhost:8080/"
        },
        "outputId": "65d5e3d0-509a-4e1c-e465-360fb46ef18c"
      },
      "outputs": [
        {
          "output_type": "stream",
          "name": "stdout",
          "text": [
            "Urutan n-gram untuk contoh pertama terlihat seperti ini:\n",
            "\n"
          ]
        },
        {
          "output_type": "execute_result",
          "data": {
            "text/plain": [
              "[[34, 417],\n",
              " [34, 417, 877],\n",
              " [34, 417, 877, 166],\n",
              " [34, 417, 877, 166, 213],\n",
              " [34, 417, 877, 166, 213, 517]]"
            ]
          },
          "metadata": {},
          "execution_count": 11
        }
      ],
      "source": [
        "first_example_sequence = n_gram_seqs([corpus[0]], tokenizer)\n",
        "\n",
        "print(\"Urutan n-gram untuk contoh pertama terlihat seperti ini:\\n\")\n",
        "first_example_sequence"
      ]
    },
    {
      "cell_type": "code",
      "execution_count": 12,
      "metadata": {
        "deletable": false,
        "editable": false,
        "id": "wtPpCcBjNc4c",
        "tags": [
          "graded"
        ],
        "colab": {
          "base_uri": "https://localhost:8080/"
        },
        "outputId": "9d338c52-97b3-48c0-839d-51d6f22f5bc1"
      },
      "outputs": [
        {
          "output_type": "stream",
          "name": "stdout",
          "text": [
            "Urutan n-gram untuk 3 contoh berikutnya terlihat seperti ini:\n",
            ":\n",
            "\n"
          ]
        },
        {
          "output_type": "execute_result",
          "data": {
            "text/plain": [
              "[[8, 878],\n",
              " [8, 878, 134],\n",
              " [8, 878, 134, 351],\n",
              " [8, 878, 134, 351, 102],\n",
              " [8, 878, 134, 351, 102, 156],\n",
              " [8, 878, 134, 351, 102, 156, 199],\n",
              " [16, 22],\n",
              " [16, 22, 2],\n",
              " [16, 22, 2, 879],\n",
              " [16, 22, 2, 879, 61],\n",
              " [16, 22, 2, 879, 61, 30],\n",
              " [16, 22, 2, 879, 61, 30, 48],\n",
              " [16, 22, 2, 879, 61, 30, 48, 634],\n",
              " [25, 311],\n",
              " [25, 311, 635],\n",
              " [25, 311, 635, 102],\n",
              " [25, 311, 635, 102, 200],\n",
              " [25, 311, 635, 102, 200, 25],\n",
              " [25, 311, 635, 102, 200, 25, 278]]"
            ]
          },
          "metadata": {},
          "execution_count": 12
        }
      ],
      "source": [
        "# Uji fungsi dengan korpus yang lebih besar\n",
        "next_3_examples_sequence = n_gram_seqs(corpus[1:4], tokenizer)\n",
        "\n",
        "print(\"Urutan n-gram untuk 3 contoh berikutnya terlihat seperti ini:\\n:\\n\")\n",
        "next_3_examples_sequence"
      ]
    },
    {
      "cell_type": "markdown",
      "metadata": {
        "id": "dx3V_RjFWQSu"
      },
      "source": [
        "Terapkan transformasi `n_gram_seqs` ke seluruh korpus dan simpan panjang urutan maksimum untuk digunakan nanti."
      ]
    },
    {
      "cell_type": "code",
      "execution_count": 13,
      "metadata": {
        "deletable": false,
        "editable": false,
        "id": "laMwiRUpmuSd",
        "tags": [
          "graded"
        ],
        "colab": {
          "base_uri": "https://localhost:8080/"
        },
        "outputId": "f997cfb7-bc86-4aad-ccb6-18c1b51d74bc"
      },
      "outputs": [
        {
          "output_type": "stream",
          "name": "stdout",
          "text": [
            "Urutan n-gram dari input_sequences memiliki panjang: 15462\n",
            "Panjang maksimum urutan adalah: 11\n"
          ]
        }
      ],
      "source": [
        "# Terapkan transformasi n_gram_seqs ke seluruh korpus\n",
        "input_sequences = n_gram_seqs(corpus, tokenizer)\n",
        "\n",
        "# Simpan panjang maksimum\n",
        "max_sequence_len = max([len(x) for x in input_sequences])\n",
        "\n",
        "print(f\"Urutan n-gram dari input_sequences memiliki panjang: {len(input_sequences)}\")\n",
        "print(f\"Panjang maksimum urutan adalah: {max_sequence_len}\")"
      ]
    },
    {
      "cell_type": "markdown",
      "metadata": {
        "id": "zHY7HroqWq12"
      },
      "source": [
        "## Menambahkan Padding pada Urutan\n",
        "\n",
        "Sekarang membuat fungsi `pad_seqs` yang akan menambahkan padding pada setiap urutan yang diberikan hingga mencapai panjang maksimum yang diinginkan. Perhatikan bahwa fungsi ini menerima sebuah daftar urutan dan seharusnya mengembalikan sebuah array numpy dengan urutan yang telah dipad."
      ]
    },
    {
      "cell_type": "code",
      "execution_count": 14,
      "metadata": {
        "cellView": "code",
        "deletable": false,
        "id": "WW1-qAZaWOhC",
        "tags": [
          "graded"
        ]
      },
      "outputs": [],
      "source": [
        "def pad_seqs(input_sequences, maxlen):\n",
        "    \"\"\"\n",
        "    Menambahkan padding pada urutan yang diberikan ke panjang maksimum yang diinginkan.\n",
        "\n",
        "    Args:\n",
        "        input_sequences (list of int): Urutan yang akan dipad\n",
        "        maxlen (int): Panjang maksimum yang diinginkan untuk setiap urutan\n",
        "\n",
        "    Returns:\n",
        "        padded_sequences (numpy array of int): Urutan yang telah dipad\n",
        "    \"\"\"\n",
        "    padded_sequences = pad_sequences(input_sequences, maxlen=maxlen, padding='pre')\n",
        "\n",
        "    return padded_sequences"
      ]
    },
    {
      "cell_type": "code",
      "execution_count": 15,
      "metadata": {
        "deletable": false,
        "editable": false,
        "id": "IqVQ0pb3YHLr",
        "tags": [
          "graded"
        ],
        "colab": {
          "base_uri": "https://localhost:8080/"
        },
        "outputId": "64fbcfac-c122-4d40-82b9-f01da41c271a"
      },
      "outputs": [
        {
          "output_type": "execute_result",
          "data": {
            "text/plain": [
              "array([[  0,   0,   0,   0,  34, 417],\n",
              "       [  0,   0,   0,  34, 417, 877],\n",
              "       [  0,   0,  34, 417, 877, 166],\n",
              "       [  0,  34, 417, 877, 166, 213],\n",
              "       [ 34, 417, 877, 166, 213, 517]], dtype=int32)"
            ]
          },
          "metadata": {},
          "execution_count": 15
        }
      ],
      "source": [
        "# Menggunakan fungsi pad_seqs untuk melakukan padding pada urutan n-gram pertama\n",
        "# dengan panjang maksimum yang ditemukan dari urutan n-gram tersebut.\n",
        "first_padded_seq = pad_seqs(first_example_sequence, max([len(x) for x in first_example_sequence]))\n",
        "\n",
        "# Menampilkan hasil urutan n-gram yang telah dipad\n",
        "first_padded_seq\n"
      ]
    },
    {
      "cell_type": "code",
      "execution_count": 16,
      "metadata": {
        "deletable": false,
        "editable": false,
        "id": "j56_UCOBYzZt",
        "tags": [
          "graded"
        ],
        "colab": {
          "base_uri": "https://localhost:8080/"
        },
        "outputId": "85ea70de-64fd-427d-b8b6-bf2cc5ea86b9"
      },
      "outputs": [
        {
          "output_type": "execute_result",
          "data": {
            "text/plain": [
              "array([[  0,   0,   0,   0,   0,   0,   8, 878],\n",
              "       [  0,   0,   0,   0,   0,   8, 878, 134],\n",
              "       [  0,   0,   0,   0,   8, 878, 134, 351],\n",
              "       [  0,   0,   0,   8, 878, 134, 351, 102],\n",
              "       [  0,   0,   8, 878, 134, 351, 102, 156],\n",
              "       [  0,   8, 878, 134, 351, 102, 156, 199],\n",
              "       [  0,   0,   0,   0,   0,   0,  16,  22],\n",
              "       [  0,   0,   0,   0,   0,  16,  22,   2],\n",
              "       [  0,   0,   0,   0,  16,  22,   2, 879],\n",
              "       [  0,   0,   0,  16,  22,   2, 879,  61],\n",
              "       [  0,   0,  16,  22,   2, 879,  61,  30],\n",
              "       [  0,  16,  22,   2, 879,  61,  30,  48],\n",
              "       [ 16,  22,   2, 879,  61,  30,  48, 634],\n",
              "       [  0,   0,   0,   0,   0,   0,  25, 311],\n",
              "       [  0,   0,   0,   0,   0,  25, 311, 635],\n",
              "       [  0,   0,   0,   0,  25, 311, 635, 102],\n",
              "       [  0,   0,   0,  25, 311, 635, 102, 200],\n",
              "       [  0,   0,  25, 311, 635, 102, 200,  25],\n",
              "       [  0,  25, 311, 635, 102, 200,  25, 278]], dtype=int32)"
            ]
          },
          "metadata": {},
          "execution_count": 16
        }
      ],
      "source": [
        "# Uji fungsi dengan urutan n-gram dari 3 contoh berikutnya\n",
        "next_3_padded_seq = pad_seqs(next_3_examples_sequence, max([len(s) for s in next_3_examples_sequence]))\n",
        "next_3_padded_seq"
      ]
    },
    {
      "cell_type": "code",
      "execution_count": 17,
      "metadata": {
        "deletable": false,
        "editable": false,
        "id": "rgK-Q_micEYA",
        "tags": [
          "graded"
        ],
        "colab": {
          "base_uri": "https://localhost:8080/"
        },
        "outputId": "dd1d1221-43d4-4b24-e529-644ed80b5e92"
      },
      "outputs": [
        {
          "output_type": "stream",
          "name": "stdout",
          "text": [
            "Korpus yang telah dipad memiliki bentuk: (15462, 11)\n"
          ]
        }
      ],
      "source": [
        "# Melakukan padding pada seluruh korpus\n",
        "input_sequences = pad_seqs(input_sequences, max_sequence_len)\n",
        "\n",
        "print(f\"Korpus yang telah dipad memiliki bentuk: {input_sequences.shape}\")\n"
      ]
    },
    {
      "cell_type": "markdown",
      "metadata": {
        "id": "ZbOidyPrXxf7"
      },
      "source": [
        "## Memisahkan data menjadi fitur dan label\n",
        "\n",
        "Sebelum data dimasukkan ke dalam jaringan saraf, kita perlu memisahkannya menjadi fitur dan label. Fitur dalam hal ini akan menjadi urutan n-gram yang telah dipad dengan kata terakhir dihapus, sementara labelnya akan menjadi kata yang dihapus.\n",
        "\n",
        "Fungsi ini mengharapkan urutan n-gram yang telah dipad sebagai input dan harus mengembalikan tuple yang berisi fitur dan label yang dienkoding dalam bentuk one-hot.\n",
        "\n",
        "Perhatikan bahwa fungsi ini juga menerima total kata dalam korpus. Parameter ini akan sangat penting saat menerapkan enkoding one-hot pada label karena setiap kata dalam korpus akan menjadi label setidaknya sekali."
      ]
    },
    {
      "cell_type": "code",
      "execution_count": 18,
      "metadata": {
        "cellView": "code",
        "deletable": false,
        "id": "9WGGbYdnZdmJ",
        "tags": [
          "graded"
        ]
      },
      "outputs": [],
      "source": [
        "def features_and_labels(input_sequences, total_words):\n",
        "    \"\"\"\n",
        "    Menghasilkan fitur dan label dari n-gram\n",
        "\n",
        "    Args:\n",
        "        input_sequences (list of int): urutan untuk memisahkan fitur dan label\n",
        "        total_words (int): ukuran kosakata\n",
        "\n",
        "    Returns:\n",
        "        features, one_hot_labels (array of int, array of int): array fitur dan label yang dienkoding dalam bentuk one-hot\n",
        "    \"\"\"\n",
        "    features = input_sequences[:,:-1]  # Mengambil semua kata kecuali yang terakhir untuk fitur\n",
        "    labels = input_sequences[:,-1]     # Mengambil kata terakhir sebagai label\n",
        "    one_hot_labels = to_categorical(labels, num_classes=total_words)  # Mengkonversi label menjadi one-hot encoding\n",
        "\n",
        "    return features, one_hot_labels"
      ]
    },
    {
      "cell_type": "code",
      "execution_count": 19,
      "metadata": {
        "deletable": false,
        "editable": false,
        "id": "23DolaBRaIAZ",
        "tags": [
          "graded"
        ],
        "colab": {
          "base_uri": "https://localhost:8080/"
        },
        "outputId": "3d788113-8ea7-4b51-eb0b-5ec0b39fdb77"
      },
      "outputs": [
        {
          "output_type": "stream",
          "name": "stdout",
          "text": [
            "labels memiliki bentuk: (5, 3211)\n",
            "\n",
            "fitur terlihat seperti ini:\n",
            "\n"
          ]
        },
        {
          "output_type": "execute_result",
          "data": {
            "text/plain": [
              "array([[  0,   0,   0,   0,  34],\n",
              "       [  0,   0,   0,  34, 417],\n",
              "       [  0,   0,  34, 417, 877],\n",
              "       [  0,  34, 417, 877, 166],\n",
              "       [ 34, 417, 877, 166, 213]], dtype=int32)"
            ]
          },
          "metadata": {},
          "execution_count": 19
        }
      ],
      "source": [
        "# Uji fungsi dengan urutan n-gram yang telah dipad dari contoh pertama\n",
        "first_features, first_labels = features_and_labels(first_padded_seq, total_words)\n",
        "\n",
        "print(f\"labels memiliki bentuk: {first_labels.shape}\")\n",
        "print(\"\\nfitur terlihat seperti ini:\\n\")\n",
        "first_features\n"
      ]
    },
    {
      "cell_type": "code",
      "execution_count": 20,
      "metadata": {
        "deletable": false,
        "editable": false,
        "id": "GRTuLEt3bRKa",
        "tags": [
          "graded"
        ],
        "colab": {
          "base_uri": "https://localhost:8080/"
        },
        "outputId": "117cb08c-eea8-4651-b635-d31f75484427"
      },
      "outputs": [
        {
          "output_type": "stream",
          "name": "stdout",
          "text": [
            "fitur memiliki bentuk: (15462, 10)\n",
            "label memiliki bentuk: (15462, 3211)\n"
          ]
        }
      ],
      "source": [
        "# Bagi seluruh korpus\n",
        "features, labels = features_and_labels(input_sequences, total_words)\n",
        "\n",
        "print(f\"fitur memiliki bentuk: {features.shape}\")\n",
        "print(f\"label memiliki bentuk: {labels.shape}\")\n"
      ]
    },
    {
      "cell_type": "markdown",
      "metadata": {
        "id": "ltxaOCE_aU6J"
      },
      "source": [
        "## Membuat model\n",
        "\n",
        "Kita perlu membuat model dengan arsitektur sebagai berikut:\n",
        "\n",
        "1. Layer Embedding dengan output_dim=100.\n",
        "2. Layer LSTM Bidirectional.\n",
        "3. Layer Dense dengan jumlah unit yang sama dengan total jumlah kata dalam korpus dan menggunakan fungsi aktivasi softmax.\n",
        "\n",
        "tingkat akurasi setidaknya 80%."
      ]
    },
    {
      "cell_type": "code",
      "execution_count": 23,
      "metadata": {
        "cellView": "code",
        "deletable": false,
        "id": "XrE6kpJFfvRY",
        "tags": [
          "graded"
        ]
      },
      "outputs": [],
      "source": [
        "import tensorflow as tf\n",
        "\n",
        "def create_model(total_words, max_sequence_len):\n",
        "    \"\"\"\n",
        "    Membuat model generator teks\n",
        "\n",
        "    Args:\n",
        "        total_words (int): ukuran kosakata untuk input layer Embedding\n",
        "        max_sequence_len (int): panjang urutan input\n",
        "\n",
        "    Returns:\n",
        "        model (tf.keras Model): model generator teks\n",
        "    \"\"\"\n",
        "    model = Sequential()\n",
        "\n",
        "    # Layer Embedding\n",
        "    model.add(Embedding(total_words, 100, input_length=max_sequence_len-1))\n",
        "\n",
        "    # Layer GRU Bidirectional\n",
        "    model.add(Bidirectional(GRU(64)))\n",
        "\n",
        "    # Layer Dense\n",
        "    model.add(Dense(total_words, activation='softmax'))\n",
        "\n",
        "    # Kompilasi model\n",
        "    model.compile(loss='categorical_crossentropy',\n",
        "                  optimizer=tf.keras.optimizers.Adam(learning_rate=0.001),\n",
        "                  metrics=['accuracy'])\n",
        "\n",
        "    return model\n"
      ]
    },
    {
      "cell_type": "code",
      "execution_count": 24,
      "metadata": {
        "id": "0IpX_Gu_gISk",
        "tags": [],
        "colab": {
          "base_uri": "https://localhost:8080/"
        },
        "outputId": "700137df-3c2e-4ae9-f45b-b83387abfc69"
      },
      "outputs": [
        {
          "output_type": "stream",
          "name": "stdout",
          "text": [
            "Epoch 1/50\n",
            "484/484 [==============================] - 18s 24ms/step - loss: 6.9173 - accuracy: 0.0228\n",
            "Epoch 2/50\n",
            "484/484 [==============================] - 4s 8ms/step - loss: 6.4006 - accuracy: 0.0364\n",
            "Epoch 3/50\n",
            "484/484 [==============================] - 4s 8ms/step - loss: 6.1048 - accuracy: 0.0501\n",
            "Epoch 4/50\n",
            "484/484 [==============================] - 4s 9ms/step - loss: 5.8023 - accuracy: 0.0675\n",
            "Epoch 5/50\n",
            "484/484 [==============================] - 4s 8ms/step - loss: 5.5094 - accuracy: 0.0821\n",
            "Epoch 6/50\n",
            "484/484 [==============================] - 4s 8ms/step - loss: 5.2185 - accuracy: 0.0979\n",
            "Epoch 7/50\n",
            "484/484 [==============================] - 4s 9ms/step - loss: 4.9301 - accuracy: 0.1133\n",
            "Epoch 8/50\n",
            "484/484 [==============================] - 4s 7ms/step - loss: 4.6353 - accuracy: 0.1387\n",
            "Epoch 9/50\n",
            "484/484 [==============================] - 4s 7ms/step - loss: 4.3363 - accuracy: 0.1747\n",
            "Epoch 10/50\n",
            "484/484 [==============================] - 5s 9ms/step - loss: 4.0433 - accuracy: 0.2155\n",
            "Epoch 11/50\n",
            "484/484 [==============================] - 4s 7ms/step - loss: 3.7616 - accuracy: 0.2626\n",
            "Epoch 12/50\n",
            "484/484 [==============================] - 4s 8ms/step - loss: 3.4887 - accuracy: 0.3054\n",
            "Epoch 13/50\n",
            "484/484 [==============================] - 4s 9ms/step - loss: 3.2369 - accuracy: 0.3531\n",
            "Epoch 14/50\n",
            "484/484 [==============================] - 4s 7ms/step - loss: 2.9995 - accuracy: 0.3931\n",
            "Epoch 15/50\n",
            "484/484 [==============================] - 4s 8ms/step - loss: 2.7866 - accuracy: 0.4321\n",
            "Epoch 16/50\n",
            "484/484 [==============================] - 4s 8ms/step - loss: 2.5906 - accuracy: 0.4708\n",
            "Epoch 17/50\n",
            "484/484 [==============================] - 4s 8ms/step - loss: 2.4151 - accuracy: 0.5069\n",
            "Epoch 18/50\n",
            "484/484 [==============================] - 4s 8ms/step - loss: 2.2544 - accuracy: 0.5389\n",
            "Epoch 19/50\n",
            "484/484 [==============================] - 4s 8ms/step - loss: 2.1070 - accuracy: 0.5616\n",
            "Epoch 20/50\n",
            "484/484 [==============================] - 4s 9ms/step - loss: 1.9740 - accuracy: 0.5918\n",
            "Epoch 21/50\n",
            "484/484 [==============================] - 3s 7ms/step - loss: 1.8501 - accuracy: 0.6171\n",
            "Epoch 22/50\n",
            "484/484 [==============================] - 3s 7ms/step - loss: 1.7373 - accuracy: 0.6391\n",
            "Epoch 23/50\n",
            "484/484 [==============================] - 4s 8ms/step - loss: 1.6352 - accuracy: 0.6601\n",
            "Epoch 24/50\n",
            "484/484 [==============================] - 3s 7ms/step - loss: 1.5393 - accuracy: 0.6769\n",
            "Epoch 25/50\n",
            "484/484 [==============================] - 3s 7ms/step - loss: 1.4539 - accuracy: 0.6957\n",
            "Epoch 26/50\n",
            "484/484 [==============================] - 4s 7ms/step - loss: 1.3744 - accuracy: 0.7141\n",
            "Epoch 27/50\n",
            "484/484 [==============================] - 4s 8ms/step - loss: 1.3023 - accuracy: 0.7264\n",
            "Epoch 28/50\n",
            "484/484 [==============================] - 3s 7ms/step - loss: 1.2303 - accuracy: 0.7406\n",
            "Epoch 29/50\n",
            "484/484 [==============================] - 3s 7ms/step - loss: 1.1714 - accuracy: 0.7547\n",
            "Epoch 30/50\n",
            "484/484 [==============================] - 4s 8ms/step - loss: 1.1163 - accuracy: 0.7641\n",
            "Epoch 31/50\n",
            "484/484 [==============================] - 3s 7ms/step - loss: 1.0626 - accuracy: 0.7766\n",
            "Epoch 32/50\n",
            "484/484 [==============================] - 3s 7ms/step - loss: 1.0177 - accuracy: 0.7874\n",
            "Epoch 33/50\n",
            "484/484 [==============================] - 4s 7ms/step - loss: 0.9739 - accuracy: 0.7966\n",
            "Epoch 34/50\n",
            "484/484 [==============================] - 4s 8ms/step - loss: 0.9356 - accuracy: 0.8023\n",
            "Epoch 35/50\n",
            "484/484 [==============================] - 4s 7ms/step - loss: 0.9011 - accuracy: 0.8064\n",
            "Epoch 36/50\n",
            "484/484 [==============================] - 3s 7ms/step - loss: 0.8663 - accuracy: 0.8148\n",
            "Epoch 37/50\n",
            "484/484 [==============================] - 4s 8ms/step - loss: 0.8379 - accuracy: 0.8189\n",
            "Epoch 38/50\n",
            "484/484 [==============================] - 4s 8ms/step - loss: 0.8110 - accuracy: 0.8240\n",
            "Epoch 39/50\n",
            "484/484 [==============================] - 4s 8ms/step - loss: 0.7856 - accuracy: 0.8280\n",
            "Epoch 40/50\n",
            "484/484 [==============================] - 4s 9ms/step - loss: 0.7658 - accuracy: 0.8298\n",
            "Epoch 41/50\n",
            "484/484 [==============================] - 3s 7ms/step - loss: 0.7463 - accuracy: 0.8322\n",
            "Epoch 42/50\n",
            "484/484 [==============================] - 3s 7ms/step - loss: 0.7282 - accuracy: 0.8351\n",
            "Epoch 43/50\n",
            "484/484 [==============================] - 4s 8ms/step - loss: 0.7128 - accuracy: 0.8375\n",
            "Epoch 44/50\n",
            "484/484 [==============================] - 4s 8ms/step - loss: 0.6985 - accuracy: 0.8379\n",
            "Epoch 45/50\n",
            "484/484 [==============================] - 3s 7ms/step - loss: 0.6882 - accuracy: 0.8401\n",
            "Epoch 46/50\n",
            "484/484 [==============================] - 3s 7ms/step - loss: 0.6702 - accuracy: 0.8451\n",
            "Epoch 47/50\n",
            "484/484 [==============================] - 4s 9ms/step - loss: 0.6644 - accuracy: 0.8464\n",
            "Epoch 48/50\n",
            "484/484 [==============================] - 4s 7ms/step - loss: 0.6531 - accuracy: 0.8441\n",
            "Epoch 49/50\n",
            "484/484 [==============================] - 3s 7ms/step - loss: 0.6437 - accuracy: 0.8437\n",
            "Epoch 50/50\n",
            "484/484 [==============================] - 4s 8ms/step - loss: 0.6396 - accuracy: 0.8454\n"
          ]
        }
      ],
      "source": [
        "# Dapatkan model yang belum dilatih\n",
        "model = create_model(total_words, max_sequence_len)\n",
        "\n",
        "# Latih model\n",
        "history = model.fit(features, labels, epochs=50, verbose=1)\n"
      ]
    },
    {
      "cell_type": "code",
      "execution_count": 25,
      "metadata": {
        "id": "1fXTEO3GJ282",
        "tags": [],
        "colab": {
          "base_uri": "https://localhost:8080/",
          "height": 887
        },
        "outputId": "69400893-0f53-4adb-a09e-7cf2aabcda09"
      },
      "outputs": [
        {
          "output_type": "display_data",
          "data": {
            "text/plain": [
              "<Figure size 640x480 with 1 Axes>"
            ],
            "image/png": "[encoded data removed]"
          },
          "metadata": {}
        },
        {
          "output_type": "display_data",
          "data": {
            "text/plain": [
              "<Figure size 640x480 with 1 Axes>"
            ],
            "image/png": "[encoded data removed]"
          },
          "metadata": {}
        }
      ],
      "source": [
        "# Lihat kurva pelatihan model\n",
        "\n",
        "acc = history.history['accuracy']\n",
        "loss = history.history['loss']\n",
        "\n",
        "epochs = range(len(acc))\n",
        "\n",
        "plt.plot(epochs, acc, 'b', label='Training accuracy')\n",
        "plt.title('Training accuracy')\n",
        "\n",
        "plt.figure()\n",
        "\n",
        "plt.plot(epochs, loss, 'b', label='Training Loss')\n",
        "plt.title('Training loss')\n",
        "plt.legend()\n",
        "\n",
        "plt.show()"
      ]
    },
    {
      "cell_type": "markdown",
      "metadata": {
        "id": "OjvED5A3qrn2"
      },
      "source": [
        "mengunduh file history.pkl yang berisi informasi history model"
      ]
    },
    {
      "cell_type": "code",
      "execution_count": 26,
      "metadata": {
        "id": "9QRG73l6qE-c",
        "tags": [],
        "colab": {
          "base_uri": "https://localhost:8080/",
          "height": 17
        },
        "outputId": "4a453c8e-ffb3-4d1f-dc74-3ddf5bc15973"
      },
      "outputs": [
        {
          "output_type": "display_data",
          "data": {
            "text/plain": [
              "<IPython.core.display.Javascript object>"
            ],
            "application/javascript": [
              "\n",
              "    async function download(id, filename, size) {\n",
              "      if (!google.colab.kernel.accessAllowed) {\n",
              "        return;\n",
              "      }\n",
              "      const div = document.createElement('div');\n",
              "      const label = document.createElement('label');\n",
              "      label.textContent = `Downloading \"${filename}\": `;\n",
              "      div.appendChild(label);\n",
              "      const progress = document.createElement('progress');\n",
              "      progress.max = size;\n",
              "      div.appendChild(progress);\n",
              "      document.body.appendChild(div);\n",
              "\n",
              "      const buffers = [];\n",
              "      let downloaded = 0;\n",
              "\n",
              "      const channel = await google.colab.kernel.comms.open(id);\n",
              "      // Send a message to notify the kernel that we're ready.\n",
              "      channel.send({})\n",
              "\n",
              "      for await (const message of channel.messages) {\n",
              "        // Send a message to notify the kernel that we're ready.\n",
              "        channel.send({})\n",
              "        if (message.buffers) {\n",
              "          for (const buffer of message.buffers) {\n",
              "            buffers.push(buffer);\n",
              "            downloaded += buffer.byteLength;\n",
              "            progress.value = downloaded;\n",
              "          }\n",
              "        }\n",
              "      }\n",
              "      const blob = new Blob(buffers, {type: 'application/binary'});\n",
              "      const a = document.createElement('a');\n",
              "      a.href = window.URL.createObjectURL(blob);\n",
              "      a.download = filename;\n",
              "      div.appendChild(a);\n",
              "      a.click();\n",
              "      div.remove();\n",
              "    }\n",
              "  "
            ]
          },
          "metadata": {}
        },
        {
          "output_type": "display_data",
          "data": {
            "text/plain": [
              "<IPython.core.display.Javascript object>"
            ],
            "application/javascript": [
              "download(\"download_59942070-eb6d-48bb-aa2a-44566c162449\", \"history.pkl\", 942)"
            ]
          },
          "metadata": {}
        }
      ],
      "source": [
        "def download_history():\n",
        "    import pickle\n",
        "    from google.colab import files\n",
        "\n",
        "    # Simpan history pelatihan ke file history.pkl\n",
        "    with open('history.pkl', 'wb') as f:\n",
        "        pickle.dump(history.history, f)\n",
        "\n",
        "    # Unduh file history.pkl\n",
        "    files.download('history.pkl')\n",
        "\n",
        "download_history()"
      ]
    },
    {
      "cell_type": "markdown",
      "metadata": {
        "id": "wdsMszk9zBs_"
      },
      "source": [
        "## Uji Model\n",
        "Setelah semua pekerjaan, saatnya melihat model menghasilkan teks."
      ]
    },
    {
      "cell_type": "code",
      "execution_count": 27,
      "metadata": {
        "id": "6Vc6PHgxa6Hm",
        "tags": [],
        "colab": {
          "base_uri": "https://localhost:8080/"
        },
        "outputId": "86484af1-78f0-47ad-d91a-394a4eaf2e34"
      },
      "outputs": [
        {
          "output_type": "stream",
          "name": "stdout",
          "text": [
            "Help me Obi Wan Kenobi, you're my only hope please thee control me control minds to cross twain oppress'd luck light ' have forgot old heard woe near less hour ' new ' show them without thy granting grow sky ' cross ' new wrong shows brought and died ' woe and thine rare more more must go ill well of thee untrue still ' have grow express'd of nought delight mad worn blest we doth view asleep forgot ' friend well knows of kings and kings oppress'd luck compile compile torn fashion force be so near slain ' have express'd form ' show of thee sight would go\n"
          ]
        }
      ],
      "source": [
        "seed_text = \"Help me Obi Wan Kenobi, you're my only hope\"\n",
        "next_words = 100\n",
        "\n",
        "for _ in range(next_words):\n",
        "    # Konversi teks menjadi urutan\n",
        "    token_list = tokenizer.texts_to_sequences([seed_text])[0]\n",
        "    # Pad urutan\n",
        "    token_list = pad_sequences([token_list], maxlen=max_sequence_len-1, padding='pre')\n",
        "    # Dapatkan probabilitas untuk memprediksi kata\n",
        "    predicted = model.predict(token_list, verbose=0)\n",
        "    # Pilih kata berikutnya berdasarkan probabilitas maksimum\n",
        "    predicted = np.argmax(predicted, axis=-1).item()\n",
        "    # Dapatkan kata aktual dari indeks kata\n",
        "    output_word = tokenizer.index_word[predicted]\n",
        "    # Tambahkan ke teks saat ini\n",
        "    seed_text += \" \" + output_word\n",
        "\n",
        "print(seed_text)"
      ]
    }
  ],
  "metadata": {
    "accelerator": "GPU",
    "colab": {
      "provenance": [],
      "gpuType": "T4",
      "include_colab_link": true
    },
    "dlai_version": "1.2.0",
    "jupytext": {
      "main_language": "python"
    },
    "kernelspec": {
      "display_name": "Python 3",
      "name": "python3"
    },
    "language_info": {
      "codemirror_mode": {
        "name": "ipython",
        "version": 3
      },
      "file_extension": ".py",
      "mimetype": "text/x-python",
      "name": "python",
      "nbconvert_exporter": "python",
      "pygments_lexer": "ipython3",
      "version": "3.9.13"
    }
  },
  "nbformat": 4,
  "nbformat_minor": 0
}